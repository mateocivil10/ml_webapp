{
 "cells": [
  {
   "cell_type": "code",
   "execution_count": 1,
   "id": "51fe4b98-cf21-4d5e-97c7-16671a423176",
   "metadata": {},
   "outputs": [],
   "source": [
    "from sklearn import linear_model\n",
    "import pandas as pd\n",
    "import pickle"
   ]
  },
  {
   "cell_type": "code",
   "execution_count": 2,
   "id": "a0ba1335-f269-4cee-8d09-9c4b25df498b",
   "metadata": {},
   "outputs": [],
   "source": [
    "df = pd.read_csv('prices.csv')"
   ]
  },
  {
   "cell_type": "code",
   "execution_count": 3,
   "id": "9b349286-b022-47fc-ada5-aaa0fc17c06f",
   "metadata": {},
   "outputs": [
    {
     "data": {
      "text/html": [
       "<div>\n",
       "<style scoped>\n",
       "    .dataframe tbody tr th:only-of-type {\n",
       "        vertical-align: middle;\n",
       "    }\n",
       "\n",
       "    .dataframe tbody tr th {\n",
       "        vertical-align: top;\n",
       "    }\n",
       "\n",
       "    .dataframe thead th {\n",
       "        text-align: right;\n",
       "    }\n",
       "</style>\n",
       "<table border=\"1\" class=\"dataframe\">\n",
       "  <thead>\n",
       "    <tr style=\"text-align: right;\">\n",
       "      <th></th>\n",
       "      <th>Rooms</th>\n",
       "      <th>Distance</th>\n",
       "      <th>Value</th>\n",
       "    </tr>\n",
       "  </thead>\n",
       "  <tbody>\n",
       "    <tr>\n",
       "      <th>0</th>\n",
       "      <td>7.489</td>\n",
       "      <td>1.9709</td>\n",
       "      <td>50.0</td>\n",
       "    </tr>\n",
       "    <tr>\n",
       "      <th>1</th>\n",
       "      <td>7.802</td>\n",
       "      <td>2.0407</td>\n",
       "      <td>50.0</td>\n",
       "    </tr>\n",
       "    <tr>\n",
       "      <th>2</th>\n",
       "      <td>8.375</td>\n",
       "      <td>2.1620</td>\n",
       "      <td>50.0</td>\n",
       "    </tr>\n",
       "    <tr>\n",
       "      <th>3</th>\n",
       "      <td>7.929</td>\n",
       "      <td>2.0459</td>\n",
       "      <td>50.0</td>\n",
       "    </tr>\n",
       "    <tr>\n",
       "      <th>4</th>\n",
       "      <td>7.831</td>\n",
       "      <td>3.1992</td>\n",
       "      <td>50.0</td>\n",
       "    </tr>\n",
       "    <tr>\n",
       "      <th>...</th>\n",
       "      <td>...</td>\n",
       "      <td>...</td>\n",
       "      <td>...</td>\n",
       "    </tr>\n",
       "    <tr>\n",
       "      <th>344</th>\n",
       "      <td>5.966</td>\n",
       "      <td>6.8185</td>\n",
       "      <td>16.0</td>\n",
       "    </tr>\n",
       "    <tr>\n",
       "      <th>345</th>\n",
       "      <td>5.613</td>\n",
       "      <td>1.7572</td>\n",
       "      <td>15.7</td>\n",
       "    </tr>\n",
       "    <tr>\n",
       "      <th>346</th>\n",
       "      <td>5.924</td>\n",
       "      <td>4.3996</td>\n",
       "      <td>15.6</td>\n",
       "    </tr>\n",
       "    <tr>\n",
       "      <th>347</th>\n",
       "      <td>5.757</td>\n",
       "      <td>2.3460</td>\n",
       "      <td>15.6</td>\n",
       "    </tr>\n",
       "    <tr>\n",
       "      <th>348</th>\n",
       "      <td>5.468</td>\n",
       "      <td>1.4118</td>\n",
       "      <td>15.6</td>\n",
       "    </tr>\n",
       "  </tbody>\n",
       "</table>\n",
       "<p>349 rows × 3 columns</p>\n",
       "</div>"
      ],
      "text/plain": [
       "     Rooms  Distance  Value\n",
       "0    7.489    1.9709   50.0\n",
       "1    7.802    2.0407   50.0\n",
       "2    8.375    2.1620   50.0\n",
       "3    7.929    2.0459   50.0\n",
       "4    7.831    3.1992   50.0\n",
       "..     ...       ...    ...\n",
       "344  5.966    6.8185   16.0\n",
       "345  5.613    1.7572   15.7\n",
       "346  5.924    4.3996   15.6\n",
       "347  5.757    2.3460   15.6\n",
       "348  5.468    1.4118   15.6\n",
       "\n",
       "[349 rows x 3 columns]"
      ]
     },
     "execution_count": 3,
     "metadata": {},
     "output_type": "execute_result"
    }
   ],
   "source": [
    "df"
   ]
  },
  {
   "cell_type": "code",
   "execution_count": 4,
   "id": "d7152480-6ce4-4df6-affa-173789606621",
   "metadata": {},
   "outputs": [
    {
     "name": "stdout",
     "output_type": "stream",
     "text": [
      "[77.52315295]\n",
      "score: 0.5931902892603973\n"
     ]
    },
    {
     "name": "stderr",
     "output_type": "stream",
     "text": [
      "C:\\workspace_github\\ml-web-app\\venv\\lib\\site-packages\\sklearn\\base.py:450: UserWarning: X does not have valid feature names, but LinearRegression was fitted with feature names\n",
      "  warnings.warn(\n"
     ]
    }
   ],
   "source": [
    "y = df['Value'] # dependent variable\n",
    "X = df[['Rooms', 'Distance']] # independent variable\n",
    "\n",
    "lm = linear_model.LinearRegression()\n",
    "lm.fit(X, y) # fitting the model\n",
    "pickle.dump(lm, open('model.pkl','wb')) # save the model\n",
    "\n",
    "print(lm.predict([[15, 61]]))  # format of input\n",
    "print(f'score: {lm.score(X, y)}')"
   ]
  }
 ],
 "metadata": {
  "kernelspec": {
   "display_name": "Python 3 (ipykernel)",
   "language": "python",
   "name": "python3"
  },
  "language_info": {
   "codemirror_mode": {
    "name": "ipython",
    "version": 3
   },
   "file_extension": ".py",
   "mimetype": "text/x-python",
   "name": "python",
   "nbconvert_exporter": "python",
   "pygments_lexer": "ipython3",
   "version": "3.9.18"
  }
 },
 "nbformat": 4,
 "nbformat_minor": 5
}
